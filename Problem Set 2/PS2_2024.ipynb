{
 "cells": [
  {
   "cell_type": "markdown",
   "id": "b797890f-de65-4c3b-83f4-cb1c44f4c27e",
   "metadata": {},
   "source": [
    "(1) Import required packages"
   ]
  },
  {
   "cell_type": "code",
   "execution_count": 1,
   "id": "f44d821a-1c8c-41fe-b47e-17eaa5c0b7d9",
   "metadata": {
    "tags": []
   },
   "outputs": [],
   "source": [
    "import pandas as pd\n",
    "import numpy as np\n",
    "import statsmodels.api as sm \n",
    "import matplotlib.pyplot as plt"
   ]
  },
  {
   "cell_type": "markdown",
   "id": "7d1ffa96-210e-4012-84d0-97cf7ca1c575",
   "metadata": {},
   "source": [
    "(2) Provide the path here at which find input data and save the output"
   ]
  },
  {
   "cell_type": "code",
   "execution_count": 4,
   "id": "9b68639c-0fc9-4d95-b28b-4135b3b2cc62",
   "metadata": {
    "tags": []
   },
   "outputs": [],
   "source": [
    "direc = '/Users/snagel/Dropbox/hdrive/teaching/Booth/AdvancedInvestments/2024/output/'"
   ]
  },
  {
   "cell_type": "markdown",
   "id": "6249f7c9-5dc2-469d-b23c-8e9c3f270947",
   "metadata": {
    "tags": []
   },
   "source": [
    "---------------------------------------------------------------------------------------\n",
    "Part 1\n",
    "---------------------------------------------------------------------------------------"
   ]
  },
  {
   "cell_type": "markdown",
   "id": "b1a1af32-82fa-45eb-b03e-32857dbb5aac",
   "metadata": {},
   "source": [
    "(3) Read data and calculate returns "
   ]
  },
  {
   "cell_type": "code",
   "execution_count": 3,
   "id": "89707df7-deb8-4197-b97e-4e5cd40c6dc9",
   "metadata": {
    "tags": []
   },
   "outputs": [],
   "source": [
    "# Read data from Excel file\n",
    "M = pd.read_excel('PS2data1.xlsx')\n",
    "\n",
    "# Extract specific columns from the dataframe\n",
    "ret = M[['rvwind', 'rglobalstocks', 'rvalue', 'rsmall', 'rtreas', 'rglobalbonds', 'rcorp', 'rreit', 'rgold']].values\n",
    "rf = M['rf'].values\n",
    "month = M['month'].values\n",
    "T, N = ret.shape\n",
    "\n",
    "# Calculate excess returns\n",
    "excret = ret - np.tile(rf.reshape(-1, 1), (1, N))"
   ]
  },
  {
   "cell_type": "markdown",
   "id": "841c8e0f-deb2-4e18-8c11-7dd20aac50e9",
   "metadata": {},
   "source": [
    "(4) In-sample plug-in approach"
   ]
  },
  {
   "cell_type": "code",
   "execution_count": null,
   "id": "642811f3-a9d7-4c9d-99e7-5afd940decda",
   "metadata": {
    "tags": []
   },
   "outputs": [],
   "source": [
    "m = np.mean(excret, axis=0)\n",
    "S = np.cov(excret, rowvar=False, ddof=1)\n",
    "w = np.linalg.inv(S) @ m\n",
    "wr = w / np.sum(w)\n",
    "pr = excret @ wr\n",
    "\n",
    "print('In-sample plug-in')\n",
    "print(wr)\n",
    "psr = np.sqrt(12) * np.mean(pr) / np.std(pr, ddof=1)\n",
    "print(psr) "
   ]
  },
  {
   "cell_type": "markdown",
   "id": "c20d7b1b-b898-47de-a370-6c4bb14b700d",
   "metadata": {},
   "source": [
    "(5) Out-of-sample analysis for various degrees of shrinkage (including no shrinkage) "
   ]
  },
  {
   "cell_type": "code",
   "execution_count": null,
   "id": "5c417762-9f28-4521-a331-e2c35996a279",
   "metadata": {
    "tags": []
   },
   "outputs": [],
   "source": [
    "win = 239  # (default = 239) \n",
    "pr = np.empty((T - win - 1, 101))\n",
    "wts = np.empty((T - win, 101, N))\n",
    "\n",
    "for j in range(101): \n",
    "    phi = j / 100 \n",
    "\n",
    "    for i in range(T - win - 1): \n",
    "        x = excret[i:i + win + 1, :]    # selects elements i to i+win \n",
    "        m = np.mean(x, axis=0)\n",
    "        S = np.cov(x, rowvar=False, ddof=1)\n",
    "        sd = np.sqrt(np.diag(S))\n",
    "        w = np.linalg.inv(S) @ m\n",
    "        wr = w / np.sum(w)\n",
    "        wr = wr * phi + (1 - phi) * (1 / N)\n",
    "        r = excret[i + win + 1, :]\n",
    "        pr[i, j] = wr @ r\n",
    "        wts[i, j, :] = wr\n",
    "\n",
    "psr = np.sqrt(12) * np.mean(pr, axis=0) / np.std(pr, axis=0, ddof=1)\n",
    "\n",
    "# pick out the results for the no-shrinkage case \n",
    "print('OOS, no shrinkage SR')\n",
    "print(psr[100])\n",
    "\n",
    "# Plotting the weights over time \n",
    "plt.figure()\n",
    "plt.plot(wts[:, 100, :], linewidth=2)\n",
    "plt.legend(['Stocks', 'I-Stocks', 'Value', 'Small', 'T-Bonds', 'I-Bonds', 'C-Bonds', 'REITS', 'Gold'],\n",
    "           loc='upper right', fontsize=8)\n",
    "plt.xlabel('Time')\n",
    "plt.ylabel('Weights')\n",
    "plt.savefig(direc + 'OOSwts.pdf', format='pdf')\n",
    "plt.show()"
   ]
  },
  {
   "cell_type": "markdown",
   "id": "884b74fe-9323-4a1e-bac3-647d9ac202c5",
   "metadata": {},
   "source": [
    "(6) Optimal shrinkage "
   ]
  },
  {
   "cell_type": "code",
   "execution_count": null,
   "id": "21f98320-755c-428c-a4f2-072ee724e902",
   "metadata": {
    "tags": []
   },
   "outputs": [],
   "source": [
    "# Looking for optimal degree of shrinkage\n",
    "ind = np.argmax(psr)\n",
    "maxwt = wts[:, ind, :]\n",
    "phis = np.arange(101) / 100\n",
    "print('Opt. shrinkage parameter value:', phis[ind])  \n",
    "print('Opt. shrinkage OOS SR:', psr[ind])\n",
    "plt.figure()\n",
    "plt.plot(phis, psr)\n",
    "plt.xlabel('\\u03D5')\n",
    "plt.ylabel('Sharpe Ratio')\n",
    "plt.savefig(direc + 'OOSshrinkSR.pdf', format='pdf')\n",
    "plt.show()"
   ]
  },
  {
   "cell_type": "markdown",
   "id": "1841017c-8b1b-4023-a596-0776f65bef21",
   "metadata": {},
   "source": [
    "(7) Plot weights implied by optimal shrinkage"
   ]
  },
  {
   "cell_type": "code",
   "execution_count": null,
   "id": "facb97d9-537a-47b2-bf45-c2e5f510a2c4",
   "metadata": {
    "tags": []
   },
   "outputs": [],
   "source": [
    "plt.figure()\n",
    "plt.plot(maxwt, linewidth=2)\n",
    "plt.legend(['Stocks', 'I-Stocks', 'Value', 'Small', 'T-Bonds', 'I-Bonds', 'C-Bonds', 'REITS', 'Gold'],\n",
    "           loc='upper right', fontsize=14)\n",
    "plt.xlabel('Time')\n",
    "plt.ylabel('Weights')\n",
    "plt.savefig(direc + 'OOSmaxwt.pdf', format='pdf')\n",
    "plt.show()\n"
   ]
  },
  {
   "cell_type": "markdown",
   "id": "a82ce9bc-d053-4372-821b-95dac0d440e0",
   "metadata": {
    "tags": []
   },
   "source": [
    "----------------------------------------------------------------------------------------\n",
    "Part 2\n",
    "----------------------------------------------------------------------------------------"
   ]
  },
  {
   "cell_type": "markdown",
   "id": "a8a3553f-c741-4fed-b1f2-29b94ae8352e",
   "metadata": {
    "tags": []
   },
   "source": [
    "(8) Read data for returns and predictor variables"
   ]
  },
  {
   "cell_type": "code",
   "execution_count": null,
   "id": "8f2bd8b2-ada1-4b46-a9f8-585d02ad01ea",
   "metadata": {
    "tags": []
   },
   "outputs": [],
   "source": [
    "# Read data from Excel file\n",
    "M = pd.read_excel('PS2data2.xlsx')\n",
    "\n",
    "# Extract specific columns from the dataframe\n",
    "ret = M['rvwind'].values\n",
    "rf = M['rf'].values\n",
    "dy = M['repadjdy'].values\n",
    "\n",
    "# Form lagged log P/D and lagged returns\n",
    "lpd = -np.log(dy[:-1])\n",
    "lr = ret[:-1] - rf[:-1]\n",
    "\n",
    "# Excess returns\n",
    "xr = ret[1:] - rf[1:]\n",
    "T = len(xr)"
   ]
  },
  {
   "cell_type": "markdown",
   "id": "5be9c3a9-7353-4fe2-87c8-c339b7e62cca",
   "metadata": {},
   "source": [
    "(9) In-sample analysis "
   ]
  },
  {
   "cell_type": "code",
   "execution_count": null,
   "id": "81217a8d-5c03-4f68-be23-6e99d36dd650",
   "metadata": {
    "tags": []
   },
   "outputs": [],
   "source": [
    "X_lr = sm.add_constant(lr) \n",
    "model = sm.OLS(xr,X_lr)\n",
    "results = model.fit() \n",
    "print(results.summary()) \n",
    "\n",
    "X_lpd = sm.add_constant(lpd) \n",
    "model = sm.OLS(xr,X_lpd)\n",
    "results = model.fit() \n",
    "print(results.summary()) "
   ]
  },
  {
   "cell_type": "markdown",
   "id": "40fc9171-cd12-41dc-9dd4-bce16469fb1c",
   "metadata": {},
   "source": [
    "(10) Out-of-sample analysis for various degrees of shrinkage (including no shrinkage)"
   ]
  },
  {
   "cell_type": "code",
   "execution_count": null,
   "id": "3f8fca0a-57ce-4981-a7a6-a66e9e061c72",
   "metadata": {
    "tags": []
   },
   "outputs": [],
   "source": [
    "win = 239  # (default = 239) \n",
    "pr = np.empty((T - win - 1, 101))\n",
    "wts = np.empty((T - win - 1, 101))\n",
    "\n",
    "for j in range(101):\n",
    "    phi = j / 100\n",
    "\n",
    "    for i in range(T - win - 1):\n",
    "        y = xr[i:i + win + 1]      # selects elements i to i+win \n",
    "        x = lr[i:i + win + 1]\n",
    "        X = sm.add_constant(x) \n",
    "        model = sm.OLS(y,X)\n",
    "        results = model.fit() \n",
    "        b = results.params \n",
    "        w = np.array([1, lr[i + win + 1]]) @ b\n",
    "        pr[i, j] = xr[i + win + 1] * (w * phi + (1 - phi) * 0.01)\n",
    "        wts[i, j] = w\n",
    "\n",
    "srs = np.sqrt(12) * np.mean(pr, axis=0) / np.std(pr, axis=0, ddof=1)\n",
    "print('constant weight strategy SR:', srs[0])\n",
    "print('no shrinkage strategy SR:', srs[-1])\n"
   ]
  },
  {
   "cell_type": "markdown",
   "id": "f99523c7-2731-4fb2-a7c8-524f15e1deee",
   "metadata": {},
   "source": [
    "(11) Optimal shrinkage "
   ]
  },
  {
   "cell_type": "code",
   "execution_count": null,
   "id": "91c7b7a5-fe88-471b-b58b-deffb71d7097",
   "metadata": {},
   "outputs": [],
   "source": [
    "ind = np.argmax(srs)\n",
    "maxwt = wts[:, ind]\n",
    "print('OOS, opt. shrinkage parameter value:', phis[ind]) \n",
    "print('Opt. shrinkage OOS SR:', srs[ind])\n",
    "     \n",
    "phis = np.arange(101) / 100\n",
    "f = plt.figure()\n",
    "plt.plot(phis, srs)\n",
    "plt.ylabel('Sharpe ratio')\n",
    "plt.xlabel('\\u03D5')\n",
    "plt.savefig(direc + 'OOSpredSR.pdf', format='pdf')\n",
    "plt.show()\n",
    "\n"
   ]
  },
  {
   "cell_type": "markdown",
   "id": "a01eff4c-8d73-4b2a-83ab-227fa8e443e6",
   "metadata": {},
   "source": [
    "(12) Plot weights implied by optimal shrinkage "
   ]
  },
  {
   "cell_type": "code",
   "execution_count": null,
   "id": "fa339de0-29f8-429d-81ff-a7f0f5295e69",
   "metadata": {
    "tags": []
   },
   "outputs": [],
   "source": [
    "plt.figure()\n",
    "plt.plot(maxwt, linewidth=2)\n",
    "plt.xlabel('Time')\n",
    "plt.ylabel('Weights')\n",
    "plt.savefig(direc + 'OOSmaxwt2.pdf', format='pdf')\n",
    "plt.show()"
   ]
  },
  {
   "cell_type": "code",
   "execution_count": null,
   "id": "c74e01fb-4b81-480f-a21a-a0385ec3114f",
   "metadata": {},
   "outputs": [],
   "source": []
  }
 ],
 "metadata": {
  "kernelspec": {
   "display_name": "Python 3 (ipykernel)",
   "language": "python",
   "name": "python3"
  },
  "language_info": {
   "codemirror_mode": {
    "name": "ipython",
    "version": 3
   },
   "file_extension": ".py",
   "mimetype": "text/x-python",
   "name": "python",
   "nbconvert_exporter": "python",
   "pygments_lexer": "ipython3",
   "version": "3.9.13"
  }
 },
 "nbformat": 4,
 "nbformat_minor": 5
}
