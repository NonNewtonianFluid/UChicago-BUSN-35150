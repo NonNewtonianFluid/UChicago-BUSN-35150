{
 "cells": [
  {
   "cell_type": "markdown",
   "id": "8c732e32-9d84-409e-a33a-9f8468ad300f",
   "metadata": {},
   "source": [
    "(1) Import required packages"
   ]
  },
  {
   "cell_type": "code",
   "execution_count": null,
   "id": "254fcf3e-c170-441b-9e42-d89ac86e50d0",
   "metadata": {
    "tags": []
   },
   "outputs": [],
   "source": [
    "import pandas as pd\n",
    "import numpy as np\n",
    "import matplotlib.pyplot as plt"
   ]
  },
  {
   "cell_type": "markdown",
   "id": "cd4579b4-9cd9-4d0e-875e-d8d8b400a502",
   "metadata": {},
   "source": [
    "(2) Provide the path here at which find input data and save the output"
   ]
  },
  {
   "cell_type": "code",
   "execution_count": null,
   "id": "b1197a53-049f-4d2a-a79c-ad2d445f0c83",
   "metadata": {
    "tags": []
   },
   "outputs": [],
   "source": [
    "direc = '/Users/snagel/Dropbox/hdrive/teaching/Booth/AdvancedInvestments/2024/output/'"
   ]
  },
  {
   "cell_type": "markdown",
   "id": "affe7287-900e-4998-9632-bddf8c182b06",
   "metadata": {},
   "source": [
    "(3) Set parameters "
   ]
  },
  {
   "cell_type": "code",
   "execution_count": null,
   "id": "77ed24b8-1ea0-4385-b0f8-53363b3a8a35",
   "metadata": {
    "tags": []
   },
   "outputs": [],
   "source": [
    "burn = 120  # (default = 120) length of burn-in period\n",
    "oos = True  #  out-of-sample or in-sample\n",
    "stocks = False  # stocks or bonds"
   ]
  },
  {
   "cell_type": "markdown",
   "id": "2772a940-fe30-4133-931d-54942405b6f0",
   "metadata": {},
   "source": [
    "(4) Read data "
   ]
  },
  {
   "cell_type": "code",
   "execution_count": null,
   "id": "147f47f6-eee1-4613-a486-1ea244674369",
   "metadata": {
    "tags": []
   },
   "outputs": [],
   "source": [
    "M = pd.read_excel('PS3data1.xlsx')  \n",
    "ret = M[['rvwind', 'rtreas']].values\n",
    "rf = M['rf'].values\n",
    "\n",
    "if stocks:\n",
    "    fn1 = 'stocks'\n",
    "    retm = ret[:, 0]\n",
    "else:\n",
    "    fn1 = 'bonds'\n",
    "    retm = ret[:, 1]\n",
    "\n",
    "fullretm = retm\n",
    "fullrf = rf\n",
    "retm = retm[burn:]\n",
    "rf = rf[burn:]\n",
    "\n",
    "T = len(fullretm)"
   ]
  },
  {
   "cell_type": "markdown",
   "id": "29e9ac05-8093-4e48-abe7-4839cf1efb38",
   "metadata": {},
   "source": [
    "(5) Calculate log returns and full-sample variance "
   ]
  },
  {
   "cell_type": "code",
   "execution_count": null,
   "id": "361d0592-3941-41cb-8b67-8d27039cdb22",
   "metadata": {
    "tags": []
   },
   "outputs": [],
   "source": [
    "logrf = np.log(1 + rf)\n",
    "logret = np.log(1 + ret)\n",
    "logretm = np.log(1 + retm)\n",
    "logfullretm = np.log(1 + fullretm)\n",
    "logfullrf = np.log(1 + fullrf)\n",
    "v = np.var(logfullretm - logfullrf,ddof=1) "
   ]
  },
  {
   "cell_type": "markdown",
   "id": "dba59255-0eea-42a7-9d42-2b6e25ab2933",
   "metadata": {},
   "source": [
    "(6) Calculate portfolio weights "
   ]
  },
  {
   "cell_type": "code",
   "execution_count": null,
   "id": "826e6124-104e-4c60-bcca-6fa649e1f15a",
   "metadata": {
    "tags": []
   },
   "outputs": [],
   "source": [
    "gamma = np.arange(0.5, 1.6, 0.25)\n",
    "G = len(gamma)\n",
    "if oos:\n",
    "    fn2 = 'oos'\n",
    "    t = np.arange(1, T + 1)\n",
    "    m = np.log(np.cumsum(np.exp(logfullretm - logfullrf)) / t)\n",
    "    m = m[burn-1:-1]\n",
    "    w = np.tile(m.reshape(-1, 1), (1, G)) / np.tile(gamma*v, (T-burn, 1))\n",
    "else:\n",
    "    fn2 = 'is'\n",
    "    m = np.log(np.mean(np.exp(logfullretm - logfullrf)))\n",
    "    w = np.tile(m / (gamma * v), (T, 1))\n",
    "    logretm = logfullretm\n",
    "    logrf = logfullrf\n",
    "    retm = fullretm\n",
    "    rf = fullrf"
   ]
  },
  {
   "cell_type": "markdown",
   "id": "81a1fa0a-297d-460f-82a3-a3b7e9698995",
   "metadata": {},
   "source": [
    "(7) Portfolio returns based on continuous rebalancing approximation"
   ]
  },
  {
   "cell_type": "code",
   "execution_count": null,
   "id": "b5c3aece-bdd5-451d-a241-6301e24f21d2",
   "metadata": {
    "tags": []
   },
   "outputs": [],
   "source": [
    "K = w.shape[1]\n",
    "logexc = logretm - logrf\n",
    "logrp = np.tile(logrf.reshape(-1,1), (1, K)) + np.tile(logexc.reshape(-1,1), (1, K)) * w + v * w * (1 - w) / 2\n",
    "cumlogrp = np.cumsum(logrp, axis=0)\n",
    "cumrp = np.exp(cumlogrp)"
   ]
  },
  {
   "cell_type": "markdown",
   "id": "83e6c9b9-1e89-40ca-acea-135e77bb7c05",
   "metadata": {},
   "source": [
    "(8) Plot weights"
   ]
  },
  {
   "cell_type": "code",
   "execution_count": null,
   "id": "d810169e-bb5d-45b0-86be-cdb23b88d000",
   "metadata": {
    "tags": []
   },
   "outputs": [],
   "source": [
    "plt.figure()\n",
    "plt.plot(w)\n",
    "plt.legend([f'$\\gamma = {g}$' for g in gamma], loc='upper left', fontsize=10)\n",
    "plt.xlabel('Time')\n",
    "plt.ylabel('Weight')\n",
    "plt.grid(True)\n",
    "plt.savefig(direc + fn1 + fn2 + 'weights.pdf', format='pdf')\n",
    "plt.show()"
   ]
  },
  {
   "cell_type": "markdown",
   "id": "4a8457a3-197c-4c77-8e27-3021f4903a98",
   "metadata": {},
   "source": [
    "(9) Plot log wealth outcomes "
   ]
  },
  {
   "cell_type": "code",
   "execution_count": null,
   "id": "182285d0-492a-4699-94ff-dfb013671f2c",
   "metadata": {},
   "outputs": [],
   "source": [
    "f = plt.figure()\n",
    "plt.plot(cumlogrp, linewidth=2)\n",
    "plt.legend([f'$\\gamma = {g}$' for g in gamma], loc='upper left', fontsize=10)\n",
    "plt.xlabel('Time')\n",
    "plt.ylabel('Log Wealth')\n",
    "plt.grid(True)\n",
    "plt.savefig(direc + fn1 + fn2 + 'wealth.pdf', format='pdf')\n",
    "plt.show()"
   ]
  },
  {
   "cell_type": "markdown",
   "id": "7bf4a4a5-96da-4735-b93c-cbc11ca255d7",
   "metadata": {},
   "source": [
    "(10) Monthly rebalancing"
   ]
  },
  {
   "cell_type": "code",
   "execution_count": null,
   "id": "56c9cd00-cdb3-4833-a2cf-96e13d460825",
   "metadata": {
    "tags": []
   },
   "outputs": [],
   "source": [
    "rpx = np.tile(retm.reshape(-1, 1), (1, K)) * w + np.tile(rf.reshape(-1, 1), (1, K)) * (1 - w)\n",
    "cumrpx = np.cumprod(1 + rpx, axis=0)\n",
    "cumlogw = np.log(cumrpx)\n",
    "\n",
    "f = plt.figure()\n",
    "plt.plot(cumlogw, linewidth=2)\n",
    "plt.legend([f'$\\gamma = {g}$' for g in gamma], loc='upper left', fontsize=10)\n",
    "plt.xlabel('Time')\n",
    "plt.ylabel('Log Wealth')\n",
    "plt.grid(True)\n",
    "plt.show()"
   ]
  }
 ],
 "metadata": {
  "kernelspec": {
   "display_name": "Python 3 (ipykernel)",
   "language": "python",
   "name": "python3"
  },
  "language_info": {
   "codemirror_mode": {
    "name": "ipython",
    "version": 3
   },
   "file_extension": ".py",
   "mimetype": "text/x-python",
   "name": "python",
   "nbconvert_exporter": "python",
   "pygments_lexer": "ipython3",
   "version": "3.11.5"
  }
 },
 "nbformat": 4,
 "nbformat_minor": 5
}
